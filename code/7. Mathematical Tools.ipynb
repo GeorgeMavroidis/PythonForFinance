{
 "cells": [
  {
   "cell_type": "markdown",
   "metadata": {},
   "source": [
    "# Mathematical Tools\n",
    "\n",
    "Throughout the 1980s and 1990s, the so-called \"Rocket Scientists\" arrived on Wall Street and transformed finance into a discipline of applied mathematics. There was a time when finance research articles were heavy on language and light on mathematical expressions and equations, but that is no longer the case today.\n",
    "This chapter offers some essential mathematical tools for finance, but it does not provide a full foundation for each one. This notebook concentrates on how to use Python's tools and techniques, as there are numerous useful books on the subject. It addresses the following points in particular:\n",
    "\n",
    "- **Approximation:** Regression and interpolation are among the most often used numerical techni‐\n",
    "ques in finance.\n",
    "- **Convex Optimization:**  A number of financial disciplines need tools for convex optimization (for\n",
    "instance, derivatives analytics when it comes to model calibration).\n",
    "- **Integration:** In particular, the valuation of financial (derivative) assets often boils down to the\n",
    "evaluation of integrals\n",
    "- **Symbolic Computation:** - Python provides with SymPy a powerful package for symbolic mathematics, for\n",
    "example, to solve (systems of) equations."
   ]
  }
 ],
 "metadata": {
  "language_info": {
   "name": "python"
  },
  "orig_nbformat": 4
 },
 "nbformat": 4,
 "nbformat_minor": 2
}
